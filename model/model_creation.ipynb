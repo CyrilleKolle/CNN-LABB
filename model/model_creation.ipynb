{
 "cells": [
  {
   "cell_type": "code",
   "execution_count": 1,
   "metadata": {},
   "outputs": [
    {
     "name": "stderr",
     "output_type": "stream",
     "text": [
      "2023-12-07 22:33:25.809792: I tensorflow/core/platform/cpu_feature_guard.cc:182] This TensorFlow binary is optimized to use available CPU instructions in performance-critical operations.\n",
      "To enable the following instructions: AVX2 FMA, in other operations, rebuild TensorFlow with the appropriate compiler flags.\n"
     ]
    }
   ],
   "source": [
    "import numpy as np\n",
    "import matplotlib.pyplot as plt\n",
    "import pandas as pd\n",
    "from sklearn.preprocessing import LabelEncoder, OneHotEncoder\n",
    "\n",
    "from PIL import Image\n",
    "import tensorflow as tf\n",
    "import os"
   ]
  },
  {
   "cell_type": "code",
   "execution_count": null,
   "metadata": {},
   "outputs": [],
   "source": [
    "def create_dataframe_from_image_directory(base_dir, labeled=True):\n",
    "    if labeled:\n",
    "        dir = {\"images\": [], \"labels\": []}\n",
    "        for i in os.listdir(base_dir):\n",
    "            img_dirs = os.path.join(base_dir, i)\n",
    "            for j in os.listdir(img_dirs):\n",
    "                img = os.path.join(img_dirs, j)\n",
    "                image = Image.open(img).resize((224, 224))\n",
    "                image_array = tf.keras.utils.img_to_array(image)\n",
    "                image_array = tf.expand_dims(image_array, 0)\n",
    "\n",
    "                dir[\"images\"].append(image_array)\n",
    "                dir[\"labels\"].append(i)\n",
    "    else:\n",
    "        dir = {\"images\": []}\n",
    "        for i in os.listdir(base_dir):\n",
    "            img_dir = os.path.join(base_dir, i)\n",
    "\n",
    "            image = Image.open(img_dir).resize((224, 224))\n",
    "            image_array = tf.keras.utils.img_to_array(image)\n",
    "            image_array = tf.expand_dims(image_array, 0)\n",
    "\n",
    "            dir[\"images\"].append(image_array)\n",
    "    df = pd.DataFrame(dir)\n",
    "    return df"
   ]
  },
  {
   "cell_type": "code",
   "execution_count": null,
   "metadata": {},
   "outputs": [],
   "source": [
    "path_to_data = \"../data/flowers\"\n",
    "data = create_dataframe_from_image_directory(path_to_data)"
   ]
  },
  {
   "cell_type": "code",
   "execution_count": null,
   "metadata": {},
   "outputs": [
    {
     "data": {
      "text/plain": [
       "(4317, 2)"
      ]
     },
     "execution_count": 4,
     "metadata": {},
     "output_type": "execute_result"
    }
   ],
   "source": [
    "data.shape"
   ]
  },
  {
   "cell_type": "code",
   "execution_count": null,
   "metadata": {},
   "outputs": [
    {
     "data": {
      "text/plain": [
       "(                                              images labels\n",
       " 0  (((tf.Tensor([ 81. 103.  28.], shape=(3,), dty...  daisy\n",
       " 1  (((tf.Tensor([30. 35.  3.], shape=(3,), dtype=...  daisy\n",
       " 2  (((tf.Tensor([0. 0. 0.], shape=(3,), dtype=flo...  daisy\n",
       " 3  (((tf.Tensor([22. 37. 12.], shape=(3,), dtype=...  daisy\n",
       " 4  (((tf.Tensor([48. 58. 49.], shape=(3,), dtype=...  daisy,\n",
       "                                                  images     labels\n",
       " 4312  (((tf.Tensor([249. 252. 106.], shape=(3,), dty...  sunflower\n",
       " 4313  (((tf.Tensor([79. 88. 92.], shape=(3,), dtype=...  sunflower\n",
       " 4314  (((tf.Tensor([46. 62. 16.], shape=(3,), dtype=...  sunflower\n",
       " 4315  (((tf.Tensor([222. 228. 243.], shape=(3,), dty...  sunflower\n",
       " 4316  (((tf.Tensor([105. 104. 109.], shape=(3,), dty...  sunflower)"
      ]
     },
     "execution_count": 5,
     "metadata": {},
     "output_type": "execute_result"
    }
   ],
   "source": [
    "data.head(), data.tail()"
   ]
  },
  {
   "cell_type": "code",
   "execution_count": null,
   "metadata": {},
   "outputs": [
    {
     "name": "stdout",
     "output_type": "stream",
     "text": [
      "images    984\n",
      "labels    984\n",
      "dtype: int64\n"
     ]
    }
   ],
   "source": [
    "tulips = data[data[\"labels\"] == \"tulip\"]\n",
    "print(tulips.count())"
   ]
  },
  {
   "cell_type": "code",
   "execution_count": null,
   "metadata": {},
   "outputs": [
    {
     "name": "stdout",
     "output_type": "stream",
     "text": [
      "images    764\n",
      "labels    764\n",
      "dtype: int64 images    1052\n",
      "labels    1052\n",
      "dtype: int64 images    733\n",
      "labels    733\n",
      "dtype: int64 images    784\n",
      "labels    784\n",
      "dtype: int64\n"
     ]
    }
   ],
   "source": [
    "daisy = data[data[\"labels\"] == \"daisy\"]\n",
    "dandelion = data[data[\"labels\"] == \"dandelion\"]\n",
    "sunflower = data[data[\"labels\"] == \"sunflower\"]\n",
    "rose = data[data[\"labels\"] == \"rose\"]\n",
    "print(daisy.count(), dandelion.count(), sunflower.count(), rose.count())"
   ]
  },
  {
   "cell_type": "code",
   "execution_count": null,
   "metadata": {},
   "outputs": [
    {
     "name": "stdout",
     "output_type": "stream",
     "text": [
      "images    4317\n",
      "labels    4317\n",
      "dtype: int64\n"
     ]
    }
   ],
   "source": [
    "print(tulips.count() + daisy.count() + dandelion.count() + sunflower.count() + rose.count())"
   ]
  },
  {
   "cell_type": "code",
   "execution_count": null,
   "metadata": {},
   "outputs": [
    {
     "name": "stdout",
     "output_type": "stream",
     "text": [
      "['daisy' 'rose' 'tulip' 'dandelion' 'sunflower']\n"
     ]
    }
   ],
   "source": [
    "labels = data[\"labels\"].unique()\n",
    "print(labels)"
   ]
  },
  {
   "cell_type": "code",
   "execution_count": null,
   "metadata": {},
   "outputs": [
    {
     "name": "stdout",
     "output_type": "stream",
     "text": [
      "images    0\n",
      "labels    0\n",
      "dtype: int64\n"
     ]
    }
   ],
   "source": [
    "print(data.isnull().sum())"
   ]
  },
  {
   "cell_type": "code",
   "execution_count": null,
   "metadata": {},
   "outputs": [
    {
     "data": {
      "text/html": [
       "<div>\n",
       "<style scoped>\n",
       "    .dataframe tbody tr th:only-of-type {\n",
       "        vertical-align: middle;\n",
       "    }\n",
       "\n",
       "    .dataframe tbody tr th {\n",
       "        vertical-align: top;\n",
       "    }\n",
       "\n",
       "    .dataframe thead th {\n",
       "        text-align: right;\n",
       "    }\n",
       "</style>\n",
       "<table border=\"1\" class=\"dataframe\">\n",
       "  <thead>\n",
       "    <tr style=\"text-align: right;\">\n",
       "      <th></th>\n",
       "      <th>images</th>\n",
       "      <th>labels</th>\n",
       "    </tr>\n",
       "  </thead>\n",
       "  <tbody>\n",
       "    <tr>\n",
       "      <th>0</th>\n",
       "      <td>(((tf.Tensor([ 81. 103.  28.], shape=(3,), dty...</td>\n",
       "      <td>0</td>\n",
       "    </tr>\n",
       "    <tr>\n",
       "      <th>1</th>\n",
       "      <td>(((tf.Tensor([30. 35.  3.], shape=(3,), dtype=...</td>\n",
       "      <td>0</td>\n",
       "    </tr>\n",
       "    <tr>\n",
       "      <th>2</th>\n",
       "      <td>(((tf.Tensor([0. 0. 0.], shape=(3,), dtype=flo...</td>\n",
       "      <td>0</td>\n",
       "    </tr>\n",
       "    <tr>\n",
       "      <th>3</th>\n",
       "      <td>(((tf.Tensor([22. 37. 12.], shape=(3,), dtype=...</td>\n",
       "      <td>0</td>\n",
       "    </tr>\n",
       "    <tr>\n",
       "      <th>4</th>\n",
       "      <td>(((tf.Tensor([48. 58. 49.], shape=(3,), dtype=...</td>\n",
       "      <td>0</td>\n",
       "    </tr>\n",
       "  </tbody>\n",
       "</table>\n",
       "</div>"
      ],
      "text/plain": [
       "                                              images  labels\n",
       "0  (((tf.Tensor([ 81. 103.  28.], shape=(3,), dty...       0\n",
       "1  (((tf.Tensor([30. 35.  3.], shape=(3,), dtype=...       0\n",
       "2  (((tf.Tensor([0. 0. 0.], shape=(3,), dtype=flo...       0\n",
       "3  (((tf.Tensor([22. 37. 12.], shape=(3,), dtype=...       0\n",
       "4  (((tf.Tensor([48. 58. 49.], shape=(3,), dtype=...       0"
      ]
     },
     "execution_count": 11,
     "metadata": {},
     "output_type": "execute_result"
    }
   ],
   "source": [
    "le = LabelEncoder()\n",
    "data[\"labels\"] = le.fit_transform(data[\"labels\"])\n",
    "data.head()"
   ]
  },
  {
   "cell_type": "code",
   "execution_count": null,
   "metadata": {},
   "outputs": [],
   "source": [
    "data[\"images\"] = data[\"images\"].apply(lambda x: tf.cast(x, tf.float32) / 255.0)"
   ]
  },
  {
   "cell_type": "code",
   "execution_count": null,
   "metadata": {},
   "outputs": [
    {
     "data": {
      "text/html": [
       "<div>\n",
       "<style scoped>\n",
       "    .dataframe tbody tr th:only-of-type {\n",
       "        vertical-align: middle;\n",
       "    }\n",
       "\n",
       "    .dataframe tbody tr th {\n",
       "        vertical-align: top;\n",
       "    }\n",
       "\n",
       "    .dataframe thead th {\n",
       "        text-align: right;\n",
       "    }\n",
       "</style>\n",
       "<table border=\"1\" class=\"dataframe\">\n",
       "  <thead>\n",
       "    <tr style=\"text-align: right;\">\n",
       "      <th></th>\n",
       "      <th>images</th>\n",
       "      <th>labels</th>\n",
       "    </tr>\n",
       "  </thead>\n",
       "  <tbody>\n",
       "    <tr>\n",
       "      <th>0</th>\n",
       "      <td>(((tf.Tensor([0.31764707 0.40392157 0.10980392...</td>\n",
       "      <td>0</td>\n",
       "    </tr>\n",
       "    <tr>\n",
       "      <th>1</th>\n",
       "      <td>(((tf.Tensor([0.11764706 0.13725491 0.01176471...</td>\n",
       "      <td>0</td>\n",
       "    </tr>\n",
       "    <tr>\n",
       "      <th>2</th>\n",
       "      <td>(((tf.Tensor([0. 0. 0.], shape=(3,), dtype=flo...</td>\n",
       "      <td>0</td>\n",
       "    </tr>\n",
       "    <tr>\n",
       "      <th>3</th>\n",
       "      <td>(((tf.Tensor([0.08627451 0.14509805 0.04705882...</td>\n",
       "      <td>0</td>\n",
       "    </tr>\n",
       "    <tr>\n",
       "      <th>4</th>\n",
       "      <td>(((tf.Tensor([0.1882353  0.22745098 0.19215687...</td>\n",
       "      <td>0</td>\n",
       "    </tr>\n",
       "  </tbody>\n",
       "</table>\n",
       "</div>"
      ],
      "text/plain": [
       "                                              images  labels\n",
       "0  (((tf.Tensor([0.31764707 0.40392157 0.10980392...       0\n",
       "1  (((tf.Tensor([0.11764706 0.13725491 0.01176471...       0\n",
       "2  (((tf.Tensor([0. 0. 0.], shape=(3,), dtype=flo...       0\n",
       "3  (((tf.Tensor([0.08627451 0.14509805 0.04705882...       0\n",
       "4  (((tf.Tensor([0.1882353  0.22745098 0.19215687...       0"
      ]
     },
     "execution_count": 13,
     "metadata": {},
     "output_type": "execute_result"
    }
   ],
   "source": [
    "data.head()"
   ]
  },
  {
   "cell_type": "code",
   "execution_count": null,
   "metadata": {},
   "outputs": [
    {
     "data": {
      "text/plain": [
       "((4317,), (4317,))"
      ]
     },
     "execution_count": 14,
     "metadata": {},
     "output_type": "execute_result"
    }
   ],
   "source": [
    "X, y = data[\"images\"], data[\"labels\"]\n",
    "X.shape, y.shape"
   ]
  },
  {
   "cell_type": "code",
   "execution_count": null,
   "metadata": {},
   "outputs": [
    {
     "data": {
      "text/plain": [
       "((3453,), (864,), (3453,), (864,))"
      ]
     },
     "execution_count": 15,
     "metadata": {},
     "output_type": "execute_result"
    }
   ],
   "source": [
    "from sklearn.model_selection import train_test_split\n",
    "X_train, X_test, y_train, y_test = train_test_split(X, y, train_size=0.8, random_state=42)\n",
    "X_train.shape, X_test.shape, y_train.shape, y_test.shape"
   ]
  },
  {
   "cell_type": "code",
   "execution_count": null,
   "metadata": {},
   "outputs": [
    {
     "data": {
      "text/plain": [
       "((3107,), (346,), (3107,), (346,))"
      ]
     },
     "execution_count": 16,
     "metadata": {},
     "output_type": "execute_result"
    }
   ],
   "source": [
    "X_train, X_val, y_train, y_val = train_test_split(X_train, y_train, train_size=0.9, random_state=42)\n",
    "X_train.shape, X_val.shape, y_train.shape, y_val.shape"
   ]
  },
  {
   "cell_type": "code",
   "execution_count": null,
   "metadata": {},
   "outputs": [
    {
     "data": {
      "text/plain": [
       "((3107, 224, 224, 3), (346, 224, 224, 3), (864, 224, 224, 3))"
      ]
     },
     "execution_count": 18,
     "metadata": {},
     "output_type": "execute_result"
    }
   ],
   "source": [
    "X_train = np.array(X_train.tolist()).reshape(-1, 224, 224, 3)\n",
    "X_val = np.array(X_val.tolist()).reshape(-1, 224, 224, 3)\n",
    "X_test = np.array(X_test.tolist()).reshape(-1, 224, 224, 3)\n",
    "X_train.shape, X_val.shape, X_test.shape"
   ]
  },
  {
   "cell_type": "code",
   "execution_count": null,
   "metadata": {},
   "outputs": [],
   "source": [
    "# y_train = np.array(y_train.tolist())\n",
    "# y_val = np.array(y_val.tolist())\n",
    "# y_test = np.array(y_test.tolist())\n",
    "# y_train.shape, y_val.shape, y_test.shape"
   ]
  },
  {
   "cell_type": "code",
   "execution_count": null,
   "metadata": {},
   "outputs": [],
   "source": [
    "from tensorflow.keras.utils import to_categorical\n",
    "y_train = to_categorical(y_train)\n",
    "y_val = to_categorical(y_val)\n",
    "y_test = to_categorical(y_test)"
   ]
  },
  {
   "cell_type": "code",
   "execution_count": null,
   "metadata": {},
   "outputs": [
    {
     "data": {
      "text/plain": [
       "((3107, 5), (346, 5), (864, 5))"
      ]
     },
     "execution_count": 20,
     "metadata": {},
     "output_type": "execute_result"
    }
   ],
   "source": [
    "y_train.shape, y_val.shape, y_test.shape"
   ]
  },
  {
   "cell_type": "code",
   "execution_count": null,
   "metadata": {},
   "outputs": [
    {
     "data": {
      "text/plain": [
       "(array([1., 0., 0., 0., 0.], dtype=float32),\n",
       " array([0., 0., 0., 0., 1.], dtype=float32),\n",
       " array([0., 0., 0., 1., 0.], dtype=float32))"
      ]
     },
     "execution_count": 21,
     "metadata": {},
     "output_type": "execute_result"
    }
   ],
   "source": [
    "y_train[0], y_val[0], y_test[0]"
   ]
  },
  {
   "cell_type": "code",
   "execution_count": null,
   "metadata": {},
   "outputs": [],
   "source": [
    "def build_and_visualise_model(\n",
    "    filters, kernel, pooling_size, strides, dropout_rate, dense_units, lr\n",
    "):\n",
    "    model = tf.keras.Sequential(\n",
    "        [\n",
    "            tf.keras.layers.Conv2D(\n",
    "                filters=filters,\n",
    "                kernel_size=kernel,\n",
    "                activation=\"relu\",\n",
    "                input_shape=(224, 224, 3),\n",
    "                padding=\"same\",\n",
    "                strides=strides,\n",
    "            ),\n",
    "            tf.keras.layers.MaxPool2D(pool_size=pooling_size, strides=strides, padding=\"same\"),\n",
    "            tf.keras.layers.Dropout(dropout_rate),\n",
    "            \n",
    "            tf.keras.layers.Conv2D(\n",
    "                filters=64, kernel_size=kernel, activation=\"relu\", padding=\"same\", strides=strides\n",
    "            ),\n",
    "            tf.keras.layers.MaxPool2D(pool_size=pooling_size, strides=strides),\n",
    "            tf.keras.layers.Dropout(dropout_rate),\n",
    "            \n",
    "            tf.keras.layers.Flatten(),\n",
    "            tf.keras.layers.Dense(dense_units, activation=\"relu\"),\n",
    "            tf.keras.layers.Dropout(dropout_rate),\n",
    "            \n",
    "            tf.keras.layers.Dense(512, activation=\"relu\"),\n",
    "            tf.keras.layers.Dropout(dropout_rate),\n",
    "            \n",
    "            tf.keras.layers.Dense(units=5, activation=\"softmax\"),\n",
    "        ]\n",
    "    )\n",
    "    model.compile(optimizer=\"Adam\", loss=\"categorical_crossentropy\", metrics=[\"accuracy\"])\n",
    "    return model"
   ]
  },
  {
   "cell_type": "code",
   "execution_count": null,
   "metadata": {},
   "outputs": [],
   "source": [
    "model = build_and_visualise_model(filters=32, kernel=(3, 3), pooling_size=(2, 2), strides=(2, 2), dropout_rate=0.2, dense_units=128, lr=0.001)\n"
   ]
  },
  {
   "cell_type": "code",
   "execution_count": null,
   "metadata": {},
   "outputs": [
    {
     "data": {
      "text/plain": [
       "(numpy.ndarray, numpy.ndarray)"
      ]
     },
     "execution_count": 67,
     "metadata": {},
     "output_type": "execute_result"
    }
   ],
   "source": [
    "type(X_train), type(y_train)"
   ]
  },
  {
   "cell_type": "code",
   "execution_count": null,
   "metadata": {},
   "outputs": [
    {
     "data": {
      "text/plain": [
       "((3107, 224, 224, 3), (3107, 5), (346, 224, 224, 3), (346, 5))"
      ]
     },
     "execution_count": 24,
     "metadata": {},
     "output_type": "execute_result"
    }
   ],
   "source": [
    "X_train.shape, y_train.shape, X_val.shape, y_val.shape"
   ]
  },
  {
   "cell_type": "code",
   "execution_count": null,
   "metadata": {},
   "outputs": [
    {
     "name": "stdout",
     "output_type": "stream",
     "text": [
      "Epoch 1/50\n",
      "98/98 [==============================] - 28s 258ms/step - loss: 1.3924 - accuracy: 0.3711 - val_loss: 1.2297 - val_accuracy: 0.4711\n",
      "Epoch 2/50\n",
      "98/98 [==============================] - 19s 196ms/step - loss: 1.1498 - accuracy: 0.4963 - val_loss: 1.0944 - val_accuracy: 0.5434\n",
      "Epoch 3/50\n",
      "98/98 [==============================] - 19s 196ms/step - loss: 1.0459 - accuracy: 0.5697 - val_loss: 1.0631 - val_accuracy: 0.5434\n",
      "Epoch 4/50\n",
      "98/98 [==============================] - 19s 192ms/step - loss: 0.9343 - accuracy: 0.6279 - val_loss: 1.0445 - val_accuracy: 0.6098\n",
      "Epoch 5/50\n",
      "98/98 [==============================] - 19s 189ms/step - loss: 0.8201 - accuracy: 0.6762 - val_loss: 0.8966 - val_accuracy: 0.6387\n",
      "Epoch 6/50\n",
      "98/98 [==============================] - 19s 189ms/step - loss: 0.7018 - accuracy: 0.7348 - val_loss: 0.8882 - val_accuracy: 0.6705\n",
      "Epoch 7/50\n",
      "98/98 [==============================] - 19s 191ms/step - loss: 0.5883 - accuracy: 0.7956 - val_loss: 0.9101 - val_accuracy: 0.6705\n",
      "Epoch 8/50\n",
      "98/98 [==============================] - 19s 189ms/step - loss: 0.4923 - accuracy: 0.8188 - val_loss: 0.9773 - val_accuracy: 0.6590\n",
      "Epoch 9/50\n",
      "98/98 [==============================] - 19s 190ms/step - loss: 0.4001 - accuracy: 0.8436 - val_loss: 1.0070 - val_accuracy: 0.6561\n",
      "Epoch 10/50\n",
      "98/98 [==============================] - 19s 191ms/step - loss: 0.3195 - accuracy: 0.8803 - val_loss: 1.0557 - val_accuracy: 0.6590\n",
      "Epoch 11/50\n",
      "98/98 [==============================] - 19s 189ms/step - loss: 0.2366 - accuracy: 0.9125 - val_loss: 1.2125 - val_accuracy: 0.6763\n",
      "Epoch 12/50\n",
      "98/98 [==============================] - 19s 191ms/step - loss: 0.2072 - accuracy: 0.9321 - val_loss: 1.2699 - val_accuracy: 0.6503\n",
      "Epoch 13/50\n",
      "98/98 [==============================] - 19s 190ms/step - loss: 0.1853 - accuracy: 0.9305 - val_loss: 1.2825 - val_accuracy: 0.6474\n",
      "Epoch 14/50\n",
      "98/98 [==============================] - 19s 191ms/step - loss: 0.1553 - accuracy: 0.9520 - val_loss: 1.4712 - val_accuracy: 0.6734\n",
      "Epoch 15/50\n",
      "98/98 [==============================] - 20s 202ms/step - loss: 0.1453 - accuracy: 0.9501 - val_loss: 1.5394 - val_accuracy: 0.6705\n",
      "Epoch 16/50\n",
      "98/98 [==============================] - 19s 193ms/step - loss: 0.1467 - accuracy: 0.9524 - val_loss: 1.3763 - val_accuracy: 0.6705\n",
      "Epoch 17/50\n",
      "98/98 [==============================] - 20s 203ms/step - loss: 0.1349 - accuracy: 0.9556 - val_loss: 1.4510 - val_accuracy: 0.6705\n",
      "Epoch 18/50\n",
      "98/98 [==============================] - 20s 200ms/step - loss: 0.0934 - accuracy: 0.9717 - val_loss: 1.6643 - val_accuracy: 0.6734\n",
      "Epoch 19/50\n",
      "98/98 [==============================] - 18s 188ms/step - loss: 0.1085 - accuracy: 0.9636 - val_loss: 1.4443 - val_accuracy: 0.6618\n",
      "Epoch 20/50\n",
      "98/98 [==============================] - 19s 191ms/step - loss: 0.0833 - accuracy: 0.9736 - val_loss: 1.5120 - val_accuracy: 0.6676\n",
      "Epoch 21/50\n",
      "98/98 [==============================] - 19s 195ms/step - loss: 0.0685 - accuracy: 0.9771 - val_loss: 1.7951 - val_accuracy: 0.6618\n",
      "Epoch 22/50\n",
      "98/98 [==============================] - 19s 191ms/step - loss: 0.0789 - accuracy: 0.9752 - val_loss: 1.8244 - val_accuracy: 0.6590\n",
      "Epoch 23/50\n",
      "98/98 [==============================] - 19s 198ms/step - loss: 0.0854 - accuracy: 0.9720 - val_loss: 1.7721 - val_accuracy: 0.6618\n",
      "Epoch 24/50\n",
      "98/98 [==============================] - 19s 194ms/step - loss: 0.0972 - accuracy: 0.9675 - val_loss: 1.7369 - val_accuracy: 0.6618\n",
      "Epoch 25/50\n",
      "98/98 [==============================] - 21s 213ms/step - loss: 0.1374 - accuracy: 0.9553 - val_loss: 1.7331 - val_accuracy: 0.6416\n",
      "Epoch 26/50\n",
      "98/98 [==============================] - 21s 214ms/step - loss: 0.0889 - accuracy: 0.9694 - val_loss: 1.7712 - val_accuracy: 0.6647\n",
      "Epoch 27/50\n",
      "98/98 [==============================] - 19s 198ms/step - loss: 0.0894 - accuracy: 0.9717 - val_loss: 1.7595 - val_accuracy: 0.6445\n",
      "Epoch 28/50\n",
      "98/98 [==============================] - 20s 202ms/step - loss: 0.0651 - accuracy: 0.9768 - val_loss: 1.8854 - val_accuracy: 0.6532\n",
      "Epoch 29/50\n",
      "98/98 [==============================] - 19s 198ms/step - loss: 0.0531 - accuracy: 0.9839 - val_loss: 1.8733 - val_accuracy: 0.6647\n",
      "Epoch 30/50\n",
      "98/98 [==============================] - 19s 194ms/step - loss: 0.0700 - accuracy: 0.9759 - val_loss: 1.9571 - val_accuracy: 0.6416\n",
      "Epoch 31/50\n",
      "98/98 [==============================] - 19s 192ms/step - loss: 0.0677 - accuracy: 0.9797 - val_loss: 1.9713 - val_accuracy: 0.6387\n",
      "Epoch 32/50\n",
      "98/98 [==============================] - 19s 191ms/step - loss: 0.0518 - accuracy: 0.9817 - val_loss: 2.0514 - val_accuracy: 0.6821\n",
      "Epoch 33/50\n",
      "98/98 [==============================] - 19s 195ms/step - loss: 0.0445 - accuracy: 0.9852 - val_loss: 2.1734 - val_accuracy: 0.6763\n",
      "Epoch 34/50\n",
      "98/98 [==============================] - 20s 199ms/step - loss: 0.0653 - accuracy: 0.9775 - val_loss: 2.0226 - val_accuracy: 0.6503\n",
      "Epoch 35/50\n",
      "98/98 [==============================] - 19s 198ms/step - loss: 0.0745 - accuracy: 0.9775 - val_loss: 1.9973 - val_accuracy: 0.6590\n",
      "Epoch 36/50\n",
      "98/98 [==============================] - 19s 194ms/step - loss: 0.0547 - accuracy: 0.9810 - val_loss: 2.0478 - val_accuracy: 0.6821\n",
      "Epoch 37/50\n",
      "98/98 [==============================] - 19s 195ms/step - loss: 0.0573 - accuracy: 0.9804 - val_loss: 2.2417 - val_accuracy: 0.6387\n",
      "Epoch 38/50\n",
      "98/98 [==============================] - 19s 197ms/step - loss: 0.0627 - accuracy: 0.9778 - val_loss: 2.1666 - val_accuracy: 0.6532\n",
      "Epoch 39/50\n",
      "98/98 [==============================] - 19s 191ms/step - loss: 0.0404 - accuracy: 0.9871 - val_loss: 2.2376 - val_accuracy: 0.6792\n",
      "Epoch 40/50\n",
      "98/98 [==============================] - 19s 192ms/step - loss: 0.0701 - accuracy: 0.9788 - val_loss: 2.2953 - val_accuracy: 0.6734\n",
      "Epoch 41/50\n",
      "98/98 [==============================] - 19s 189ms/step - loss: 0.0571 - accuracy: 0.9791 - val_loss: 2.1846 - val_accuracy: 0.6358\n",
      "Epoch 42/50\n",
      "98/98 [==============================] - 19s 195ms/step - loss: 0.0508 - accuracy: 0.9862 - val_loss: 2.0678 - val_accuracy: 0.6590\n",
      "Epoch 43/50\n",
      "98/98 [==============================] - 19s 191ms/step - loss: 0.0383 - accuracy: 0.9878 - val_loss: 2.2757 - val_accuracy: 0.6618\n",
      "Epoch 44/50\n",
      "98/98 [==============================] - 19s 192ms/step - loss: 0.0456 - accuracy: 0.9862 - val_loss: 2.1069 - val_accuracy: 0.6387\n",
      "Epoch 45/50\n",
      "98/98 [==============================] - 19s 193ms/step - loss: 0.0454 - accuracy: 0.9852 - val_loss: 2.2361 - val_accuracy: 0.6474\n",
      "Epoch 46/50\n",
      "98/98 [==============================] - 19s 190ms/step - loss: 0.0311 - accuracy: 0.9900 - val_loss: 2.4073 - val_accuracy: 0.6329\n",
      "Epoch 47/50\n",
      "98/98 [==============================] - 19s 194ms/step - loss: 0.0422 - accuracy: 0.9846 - val_loss: 2.5197 - val_accuracy: 0.6474\n",
      "Epoch 48/50\n",
      "98/98 [==============================] - 20s 200ms/step - loss: 0.0453 - accuracy: 0.9865 - val_loss: 2.2658 - val_accuracy: 0.6503\n",
      "Epoch 49/50\n",
      "98/98 [==============================] - 20s 203ms/step - loss: 0.0320 - accuracy: 0.9907 - val_loss: 2.4932 - val_accuracy: 0.6590\n",
      "Epoch 50/50\n",
      "98/98 [==============================] - 19s 198ms/step - loss: 0.0346 - accuracy: 0.9868 - val_loss: 2.5530 - val_accuracy: 0.6763\n"
     ]
    }
   ],
   "source": [
    "history = model.fit(X_train, y_train, epochs=50, validation_data=(X_val, y_val))"
   ]
  },
  {
   "cell_type": "code",
   "execution_count": null,
   "metadata": {},
   "outputs": [
    {
     "data": {
      "image/png": "[encoded data removed]",
      "text/plain": [
       "<Figure size 1000x600 with 2 Axes>"
      ]
     },
     "metadata": {},
     "output_type": "display_data"
    }
   ],
   "source": [
    "plt.figure(figsize=(10, 6))\n",
    "plt.subplot(1, 2, 1)\n",
    "plt.plot(history.history[\"accuracy\"], label=\"train_accuracy\")\n",
    "plt.plot(history.history[\"val_accuracy\"], label=\"val_accuracy\")\n",
    "plt.title(\"Accuracy over epochs\")\n",
    "plt.xlabel(\"Epochs\")\n",
    "plt.ylabel(\"Accuracy\")\n",
    "plt.legend()\n",
    "\n",
    "plt.subplot(1, 2, 2)\n",
    "plt.plot(history.history[\"loss\"], label=\"train_loss\")\n",
    "plt.plot(history.history[\"val_loss\"], label=\"val_loss\")\n",
    "plt.title(\"Loss over epochs\")\n",
    "plt.xlabel(\"Epochs\")\n",
    "plt.ylabel(\"Loss\")\n",
    "plt.legend()\n",
    "\n",
    "plt.show()"
   ]
  }
 ],
 "metadata": {
  "kernelspec": {
   "display_name": "CNN-LABB-XOy-6h4W",
   "language": "python",
   "name": "python3"
  },
  "language_info": {
   "codemirror_mode": {
    "name": "ipython",
    "version": 3
   },
   "file_extension": ".py",
   "mimetype": "text/x-python",
   "name": "python",
   "nbconvert_exporter": "python",
   "pygments_lexer": "ipython3",
   "version": "3.11.4"
  }
 },
 "nbformat": 4,
 "nbformat_minor": 2
}
