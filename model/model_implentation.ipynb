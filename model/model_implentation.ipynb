{
 "cells": [
  {
   "cell_type": "code",
   "execution_count": 1,
   "metadata": {},
   "outputs": [
    {
     "name": "stderr",
     "output_type": "stream",
     "text": [
      "2023-12-07 23:34:40.535384: I tensorflow/core/platform/cpu_feature_guard.cc:182] This TensorFlow binary is optimized to use available CPU instructions in performance-critical operations.\n",
      "To enable the following instructions: AVX2 FMA, in other operations, rebuild TensorFlow with the appropriate compiler flags.\n"
     ]
    }
   ],
   "source": [
    "import sys \n",
    "from pathlib import Path\n",
    "# sys.path.append(str(Path.cwd().parents[0] / \"py\"))\n",
    "\n",
    "from model_class import Model\n",
    "\n",
    "model = Model()"
   ]
  },
  {
   "cell_type": "code",
   "execution_count": 2,
   "metadata": {},
   "outputs": [],
   "source": [
    "PATH_TO_FLOWERS = \"../data/flowers\""
   ]
  },
  {
   "cell_type": "code",
   "execution_count": 3,
   "metadata": {},
   "outputs": [],
   "source": [
    "data = model.load_data(PATH_TO_FLOWERS)"
   ]
  },
  {
   "cell_type": "code",
   "execution_count": 4,
   "metadata": {},
   "outputs": [
    {
     "data": {
      "text/plain": [
       "(                                              images labels\n",
       " 0  (((tf.Tensor([ 81. 103.  28.], shape=(3,), dty...  daisy\n",
       " 1  (((tf.Tensor([30. 35.  3.], shape=(3,), dtype=...  daisy\n",
       " 2  (((tf.Tensor([0. 0. 0.], shape=(3,), dtype=flo...  daisy\n",
       " 3  (((tf.Tensor([22. 37. 12.], shape=(3,), dtype=...  daisy\n",
       " 4  (((tf.Tensor([48. 58. 49.], shape=(3,), dtype=...  daisy,\n",
       "                                                  images     labels\n",
       " 4312  (((tf.Tensor([249. 252. 106.], shape=(3,), dty...  sunflower\n",
       " 4313  (((tf.Tensor([79. 88. 92.], shape=(3,), dtype=...  sunflower\n",
       " 4314  (((tf.Tensor([46. 62. 16.], shape=(3,), dtype=...  sunflower\n",
       " 4315  (((tf.Tensor([222. 228. 243.], shape=(3,), dty...  sunflower\n",
       " 4316  (((tf.Tensor([105. 104. 109.], shape=(3,), dty...  sunflower)"
      ]
     },
     "execution_count": 4,
     "metadata": {},
     "output_type": "execute_result"
    }
   ],
   "source": [
    "data.head(), data.tail()"
   ]
  },
  {
   "cell_type": "code",
   "execution_count": 5,
   "metadata": {},
   "outputs": [
    {
     "name": "stdout",
     "output_type": "stream",
     "text": [
      "images    984\n",
      "labels    984\n",
      "dtype: int64\n"
     ]
    }
   ],
   "source": [
    "tulip = model.return_count_of_unique_flowers(data, \"tulip\")\n",
    "print(tulip)"
   ]
  },
  {
   "cell_type": "code",
   "execution_count": 6,
   "metadata": {},
   "outputs": [
    {
     "name": "stdout",
     "output_type": "stream",
     "text": [
      "images    784\n",
      "labels    784\n",
      "dtype: int64\n"
     ]
    }
   ],
   "source": [
    "rose = model.return_count_of_unique_flowers(data, \"rose\")\n",
    "print(rose)"
   ]
  },
  {
   "cell_type": "code",
   "execution_count": 7,
   "metadata": {},
   "outputs": [
    {
     "name": "stdout",
     "output_type": "stream",
     "text": [
      "images    764\n",
      "labels    764\n",
      "dtype: int64\n"
     ]
    }
   ],
   "source": [
    "daisy = model.return_count_of_unique_flowers(data, \"daisy\")\n",
    "print(daisy)"
   ]
  },
  {
   "cell_type": "code",
   "execution_count": 8,
   "metadata": {},
   "outputs": [
    {
     "name": "stdout",
     "output_type": "stream",
     "text": [
      "images    1052\n",
      "labels    1052\n",
      "dtype: int64\n"
     ]
    }
   ],
   "source": [
    "dandelion = model.return_count_of_unique_flowers(data, \"dandelion\")\n",
    "print(dandelion)"
   ]
  },
  {
   "cell_type": "code",
   "execution_count": 9,
   "metadata": {},
   "outputs": [
    {
     "name": "stdout",
     "output_type": "stream",
     "text": [
      "images    733\n",
      "labels    733\n",
      "dtype: int64\n"
     ]
    }
   ],
   "source": [
    "sunflower = model.return_count_of_unique_flowers(data, \"sunflower\")\n",
    "print(sunflower)"
   ]
  },
  {
   "cell_type": "code",
   "execution_count": 10,
   "metadata": {},
   "outputs": [
    {
     "name": "stdout",
     "output_type": "stream",
     "text": [
      "<class 'pandas.core.frame.DataFrame'>\n",
      "RangeIndex: 4317 entries, 0 to 4316\n",
      "Data columns (total 2 columns):\n",
      " #   Column  Non-Null Count  Dtype \n",
      "---  ------  --------------  ----- \n",
      " 0   images  4317 non-null   object\n",
      " 1   labels  4317 non-null   object\n",
      "dtypes: object(2)\n",
      "memory usage: 67.6+ KB\n"
     ]
    }
   ],
   "source": [
    "model.get_dataframe_info(data)"
   ]
  },
  {
   "cell_type": "code",
   "execution_count": 12,
   "metadata": {},
   "outputs": [
    {
     "name": "stdout",
     "output_type": "stream",
     "text": [
      "images    0\n",
      "labels    0\n",
      "dtype: int64\n"
     ]
    }
   ],
   "source": [
    "model.check_for_null_values(data)"
   ]
  },
  {
   "cell_type": "code",
   "execution_count": 13,
   "metadata": {},
   "outputs": [
    {
     "data": {
      "text/plain": [
       "array(['daisy', 'rose', 'tulip', 'dandelion', 'sunflower'], dtype=object)"
      ]
     },
     "execution_count": 13,
     "metadata": {},
     "output_type": "execute_result"
    }
   ],
   "source": [
    "model.return_unique_labels(data)"
   ]
  },
  {
   "cell_type": "code",
   "execution_count": 14,
   "metadata": {},
   "outputs": [
    {
     "data": {
      "text/html": [
       "<div>\n",
       "<style scoped>\n",
       "    .dataframe tbody tr th:only-of-type {\n",
       "        vertical-align: middle;\n",
       "    }\n",
       "\n",
       "    .dataframe tbody tr th {\n",
       "        vertical-align: top;\n",
       "    }\n",
       "\n",
       "    .dataframe thead th {\n",
       "        text-align: right;\n",
       "    }\n",
       "</style>\n",
       "<table border=\"1\" class=\"dataframe\">\n",
       "  <thead>\n",
       "    <tr style=\"text-align: right;\">\n",
       "      <th></th>\n",
       "      <th>images</th>\n",
       "      <th>labels</th>\n",
       "    </tr>\n",
       "  </thead>\n",
       "  <tbody>\n",
       "    <tr>\n",
       "      <th>0</th>\n",
       "      <td>(((tf.Tensor([ 81. 103.  28.], shape=(3,), dty...</td>\n",
       "      <td>0</td>\n",
       "    </tr>\n",
       "    <tr>\n",
       "      <th>1</th>\n",
       "      <td>(((tf.Tensor([30. 35.  3.], shape=(3,), dtype=...</td>\n",
       "      <td>0</td>\n",
       "    </tr>\n",
       "    <tr>\n",
       "      <th>2</th>\n",
       "      <td>(((tf.Tensor([0. 0. 0.], shape=(3,), dtype=flo...</td>\n",
       "      <td>0</td>\n",
       "    </tr>\n",
       "    <tr>\n",
       "      <th>3</th>\n",
       "      <td>(((tf.Tensor([22. 37. 12.], shape=(3,), dtype=...</td>\n",
       "      <td>0</td>\n",
       "    </tr>\n",
       "    <tr>\n",
       "      <th>4</th>\n",
       "      <td>(((tf.Tensor([48. 58. 49.], shape=(3,), dtype=...</td>\n",
       "      <td>0</td>\n",
       "    </tr>\n",
       "    <tr>\n",
       "      <th>...</th>\n",
       "      <td>...</td>\n",
       "      <td>...</td>\n",
       "    </tr>\n",
       "    <tr>\n",
       "      <th>4312</th>\n",
       "      <td>(((tf.Tensor([249. 252. 106.], shape=(3,), dty...</td>\n",
       "      <td>3</td>\n",
       "    </tr>\n",
       "    <tr>\n",
       "      <th>4313</th>\n",
       "      <td>(((tf.Tensor([79. 88. 92.], shape=(3,), dtype=...</td>\n",
       "      <td>3</td>\n",
       "    </tr>\n",
       "    <tr>\n",
       "      <th>4314</th>\n",
       "      <td>(((tf.Tensor([46. 62. 16.], shape=(3,), dtype=...</td>\n",
       "      <td>3</td>\n",
       "    </tr>\n",
       "    <tr>\n",
       "      <th>4315</th>\n",
       "      <td>(((tf.Tensor([222. 228. 243.], shape=(3,), dty...</td>\n",
       "      <td>3</td>\n",
       "    </tr>\n",
       "    <tr>\n",
       "      <th>4316</th>\n",
       "      <td>(((tf.Tensor([105. 104. 109.], shape=(3,), dty...</td>\n",
       "      <td>3</td>\n",
       "    </tr>\n",
       "  </tbody>\n",
       "</table>\n",
       "<p>4317 rows × 2 columns</p>\n",
       "</div>"
      ],
      "text/plain": [
       "                                                 images  labels\n",
       "0     (((tf.Tensor([ 81. 103.  28.], shape=(3,), dty...       0\n",
       "1     (((tf.Tensor([30. 35.  3.], shape=(3,), dtype=...       0\n",
       "2     (((tf.Tensor([0. 0. 0.], shape=(3,), dtype=flo...       0\n",
       "3     (((tf.Tensor([22. 37. 12.], shape=(3,), dtype=...       0\n",
       "4     (((tf.Tensor([48. 58. 49.], shape=(3,), dtype=...       0\n",
       "...                                                 ...     ...\n",
       "4312  (((tf.Tensor([249. 252. 106.], shape=(3,), dty...       3\n",
       "4313  (((tf.Tensor([79. 88. 92.], shape=(3,), dtype=...       3\n",
       "4314  (((tf.Tensor([46. 62. 16.], shape=(3,), dtype=...       3\n",
       "4315  (((tf.Tensor([222. 228. 243.], shape=(3,), dty...       3\n",
       "4316  (((tf.Tensor([105. 104. 109.], shape=(3,), dty...       3\n",
       "\n",
       "[4317 rows x 2 columns]"
      ]
     },
     "execution_count": 14,
     "metadata": {},
     "output_type": "execute_result"
    }
   ],
   "source": [
    "model.encode_labels(data)"
   ]
  },
  {
   "cell_type": "code",
   "execution_count": 15,
   "metadata": {},
   "outputs": [
    {
     "data": {
      "text/html": [
       "<div>\n",
       "<style scoped>\n",
       "    .dataframe tbody tr th:only-of-type {\n",
       "        vertical-align: middle;\n",
       "    }\n",
       "\n",
       "    .dataframe tbody tr th {\n",
       "        vertical-align: top;\n",
       "    }\n",
       "\n",
       "    .dataframe thead th {\n",
       "        text-align: right;\n",
       "    }\n",
       "</style>\n",
       "<table border=\"1\" class=\"dataframe\">\n",
       "  <thead>\n",
       "    <tr style=\"text-align: right;\">\n",
       "      <th></th>\n",
       "      <th>images</th>\n",
       "      <th>labels</th>\n",
       "    </tr>\n",
       "  </thead>\n",
       "  <tbody>\n",
       "    <tr>\n",
       "      <th>0</th>\n",
       "      <td>(((tf.Tensor([0.31764707 0.40392157 0.10980392...</td>\n",
       "      <td>0</td>\n",
       "    </tr>\n",
       "    <tr>\n",
       "      <th>1</th>\n",
       "      <td>(((tf.Tensor([0.11764706 0.13725491 0.01176471...</td>\n",
       "      <td>0</td>\n",
       "    </tr>\n",
       "    <tr>\n",
       "      <th>2</th>\n",
       "      <td>(((tf.Tensor([0. 0. 0.], shape=(3,), dtype=flo...</td>\n",
       "      <td>0</td>\n",
       "    </tr>\n",
       "    <tr>\n",
       "      <th>3</th>\n",
       "      <td>(((tf.Tensor([0.08627451 0.14509805 0.04705882...</td>\n",
       "      <td>0</td>\n",
       "    </tr>\n",
       "    <tr>\n",
       "      <th>4</th>\n",
       "      <td>(((tf.Tensor([0.1882353  0.22745098 0.19215687...</td>\n",
       "      <td>0</td>\n",
       "    </tr>\n",
       "    <tr>\n",
       "      <th>...</th>\n",
       "      <td>...</td>\n",
       "      <td>...</td>\n",
       "    </tr>\n",
       "    <tr>\n",
       "      <th>4312</th>\n",
       "      <td>(((tf.Tensor([0.9764706  0.9882353  0.41568628...</td>\n",
       "      <td>3</td>\n",
       "    </tr>\n",
       "    <tr>\n",
       "      <th>4313</th>\n",
       "      <td>(((tf.Tensor([0.30980393 0.34509805 0.36078432...</td>\n",
       "      <td>3</td>\n",
       "    </tr>\n",
       "    <tr>\n",
       "      <th>4314</th>\n",
       "      <td>(((tf.Tensor([0.18039216 0.24313726 0.0627451 ...</td>\n",
       "      <td>3</td>\n",
       "    </tr>\n",
       "    <tr>\n",
       "      <th>4315</th>\n",
       "      <td>(((tf.Tensor([0.87058824 0.89411765 0.9529412 ...</td>\n",
       "      <td>3</td>\n",
       "    </tr>\n",
       "    <tr>\n",
       "      <th>4316</th>\n",
       "      <td>(((tf.Tensor([0.4117647  0.40784314 0.42745098...</td>\n",
       "      <td>3</td>\n",
       "    </tr>\n",
       "  </tbody>\n",
       "</table>\n",
       "<p>4317 rows × 2 columns</p>\n",
       "</div>"
      ],
      "text/plain": [
       "                                                 images  labels\n",
       "0     (((tf.Tensor([0.31764707 0.40392157 0.10980392...       0\n",
       "1     (((tf.Tensor([0.11764706 0.13725491 0.01176471...       0\n",
       "2     (((tf.Tensor([0. 0. 0.], shape=(3,), dtype=flo...       0\n",
       "3     (((tf.Tensor([0.08627451 0.14509805 0.04705882...       0\n",
       "4     (((tf.Tensor([0.1882353  0.22745098 0.19215687...       0\n",
       "...                                                 ...     ...\n",
       "4312  (((tf.Tensor([0.9764706  0.9882353  0.41568628...       3\n",
       "4313  (((tf.Tensor([0.30980393 0.34509805 0.36078432...       3\n",
       "4314  (((tf.Tensor([0.18039216 0.24313726 0.0627451 ...       3\n",
       "4315  (((tf.Tensor([0.87058824 0.89411765 0.9529412 ...       3\n",
       "4316  (((tf.Tensor([0.4117647  0.40784314 0.42745098...       3\n",
       "\n",
       "[4317 rows x 2 columns]"
      ]
     },
     "execution_count": 15,
     "metadata": {},
     "output_type": "execute_result"
    }
   ],
   "source": [
    "model.normalise_images(data)"
   ]
  },
  {
   "cell_type": "code",
   "execution_count": 16,
   "metadata": {},
   "outputs": [],
   "source": [
    "X, y = model.split_target_from_features(data)"
   ]
  },
  {
   "cell_type": "code",
   "execution_count": 17,
   "metadata": {},
   "outputs": [],
   "source": [
    "X_train, X_test, X_val, y_train, y_test, y_val = model.split_train_test_val(X, y)"
   ]
  },
  {
   "cell_type": "code",
   "execution_count": 18,
   "metadata": {},
   "outputs": [
    {
     "data": {
      "text/plain": [
       "((2762,), (864,), (691,), (2762,), (864,), (691,))"
      ]
     },
     "execution_count": 18,
     "metadata": {},
     "output_type": "execute_result"
    }
   ],
   "source": [
    "X_train.shape, X_test.shape, X_val.shape, y_train.shape, y_test.shape, y_val.shape"
   ]
  },
  {
   "cell_type": "code",
   "execution_count": 34,
   "metadata": {},
   "outputs": [],
   "source": [
    "X_train, X_test, X_val = model.reshape_images(X_train, X_test, X_val)"
   ]
  },
  {
   "cell_type": "code",
   "execution_count": 19,
   "metadata": {},
   "outputs": [],
   "source": [
    "y_train, y_test, y_val = model.convert_target_to_categorical(y_train, y_test, y_val)"
   ]
  },
  {
   "cell_type": "code",
   "execution_count": 32,
   "metadata": {},
   "outputs": [],
   "source": [
    "build_model = model.build_model(filters=32, kernel=(3,3), strides=(2,2), dropout_rate=0.2,dense_units=128, lr=0.001,pooling_size=(2,2))"
   ]
  },
  {
   "cell_type": "code",
   "execution_count": 35,
   "metadata": {},
   "outputs": [
    {
     "name": "stdout",
     "output_type": "stream",
     "text": [
      "Epoch 1/10\n",
      "87/87 [==============================] - 24s 251ms/step - loss: 1.3699 - accuracy: 0.4026 - val_loss: 1.1499 - val_accuracy: 0.5326\n",
      "Epoch 2/10\n",
      "87/87 [==============================] - 19s 214ms/step - loss: 1.1315 - accuracy: 0.5293 - val_loss: 1.0970 - val_accuracy: 0.5297\n",
      "Epoch 3/10\n",
      "87/87 [==============================] - 18s 211ms/step - loss: 1.0356 - accuracy: 0.5815 - val_loss: 1.0361 - val_accuracy: 0.5861\n",
      "Epoch 4/10\n",
      "87/87 [==============================] - 18s 206ms/step - loss: 0.9120 - accuracy: 0.6405 - val_loss: 0.9706 - val_accuracy: 0.6324\n",
      "Epoch 5/10\n",
      "87/87 [==============================] - 19s 216ms/step - loss: 0.7992 - accuracy: 0.6988 - val_loss: 0.9090 - val_accuracy: 0.6599\n",
      "Epoch 6/10\n",
      "87/87 [==============================] - 20s 233ms/step - loss: 0.6660 - accuracy: 0.7513 - val_loss: 0.8951 - val_accuracy: 0.6585\n",
      "Epoch 7/10\n",
      "87/87 [==============================] - 19s 220ms/step - loss: 0.5379 - accuracy: 0.8081 - val_loss: 0.8859 - val_accuracy: 0.6773\n",
      "Epoch 8/10\n",
      "87/87 [==============================] - 18s 203ms/step - loss: 0.4438 - accuracy: 0.8360 - val_loss: 1.0007 - val_accuracy: 0.6570\n",
      "Epoch 9/10\n",
      "87/87 [==============================] - 18s 209ms/step - loss: 0.3523 - accuracy: 0.8711 - val_loss: 1.0005 - val_accuracy: 0.6570\n",
      "Epoch 10/10\n",
      "87/87 [==============================] - 17s 200ms/step - loss: 0.2711 - accuracy: 0.9077 - val_loss: 1.0570 - val_accuracy: 0.6599\n"
     ]
    }
   ],
   "source": [
    "history = model.train_model(build_model, X_train, y_train, X_val, y_val, epochs=10, batch_size=32)"
   ]
  },
  {
   "cell_type": "code",
   "execution_count": 36,
   "metadata": {},
   "outputs": [
    {
     "data": {
      "image/png": "[encoded data removed]",
      "text/plain": [
       "<Figure size 1000x600 with 2 Axes>"
      ]
     },
     "metadata": {},
     "output_type": "display_data"
    }
   ],
   "source": [
    "model.plot_accuracy(history)"
   ]
  }
 ],
 "metadata": {
  "kernelspec": {
   "display_name": "CNN-LABB-XOy-6h4W",
   "language": "python",
   "name": "python3"
  },
  "language_info": {
   "codemirror_mode": {
    "name": "ipython",
    "version": 3
   },
   "file_extension": ".py",
   "mimetype": "text/x-python",
   "name": "python",
   "nbconvert_exporter": "python",
   "pygments_lexer": "ipython3",
   "version": "3.11.4"
  }
 },
 "nbformat": 4,
 "nbformat_minor": 2
}
